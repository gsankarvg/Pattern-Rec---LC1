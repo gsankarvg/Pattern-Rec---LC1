{
 "cells": [
  {
   "cell_type": "code",
   "execution_count": 7,
   "metadata": {},
   "outputs": [],
   "source": [
    "from collections import Counter, defaultdict\n",
    "import string\n",
    "from nltk.tokenize import word_tokenize\n",
    "import nltk\n",
    "from nltk.util import bigrams, trigrams\n",
    "# from nltk.corpus import cmudict\n",
    "import pronouncing as pr"
   ]
  },
  {
   "cell_type": "code",
   "execution_count": 4,
   "metadata": {},
   "outputs": [
    {
     "name": "stdout",
     "output_type": "stream",
     "text": [
      "Most common words: [('the', 20), ('a', 5), ('and', 5)]\n",
      "Most common bigrams:[(('in', 'the'), 3), (('of', 'the'), 3), (('made', 'the'), 2)]\n",
      "Most common trigrams:[(('madam', 'in', 'the'), 1), (('in', 'the', 'racecar'), 1), (('the', 'racecar', 'traveled'), 1)]\n",
      "Palindromes: ['madam', 'racecar', 'a', 'noon', 'a', 'civic', 'a', 'i', 'i', 'a', 'level', 'i', 'a']\n",
      "Anagrams: [['was', 'saw'], ['vile', 'evil'], ['night', 'thing'], ['god', 'dog'], ['listen', 'silent']]\n"
     ]
    }
   ],
   "source": [
    "with open('textdata.csv', 'r') as fp:\n",
    "    sentences = fp.readlines()\n",
    "\n",
    "text = ' '.join(sentences)\n",
    "text = text.lower()\n",
    "\n",
    "translation_table = str.maketrans('', '', string.punctuation)\n",
    "text = text.translate(translation_table)\n",
    "words = text.split()\n",
    "\n",
    "word_count = Counter(words)\n",
    "\n",
    "bigrams_list = list(bigrams(words))\n",
    "trigrams_list = list(trigrams(words))\n",
    "\n",
    "bigram_counts = Counter(bigrams_list)\n",
    "trigram_counts = Counter(trigrams_list)\n",
    "\n",
    "print(f\"Most common words: {word_count.most_common(3)}\")\n",
    "print(f\"Most common bigrams:{bigram_counts.most_common(3)}\")\n",
    "print(f\"Most common trigrams:{trigram_counts.most_common(3)}\")\n",
    "\n",
    "palindromes = []\n",
    "for w in words:\n",
    "    if w == w[::-1]:\n",
    "        palindromes.append(w)\n",
    "\n",
    "print(f\"Palindromes: {palindromes}\")\n",
    "\n",
    "anagram_groups = defaultdict(set)\n",
    "for w in words:\n",
    "    sorted_word = ''.join(sorted(w))\n",
    "    anagram_groups[sorted_word].add(w)\n",
    "anagram_list = [list(group)\n",
    "                for group in anagram_groups.values() \n",
    "                if len(group) > 1]\n",
    "\n",
    "print(f\"Anagrams: {anagram_list}\")"
   ]
  },
  {
   "cell_type": "code",
   "execution_count": 38,
   "metadata": {},
   "outputs": [
    {
     "name": "stdout",
     "output_type": "stream",
     "text": [
      "['Madam, in the racecar, traveled a long road to noon, which was quite a civic duty.', '']\n",
      "['The light and fight between the two players was intense, but only one could win.', '']\n",
      "['The rain and pain from the storm made the streetlights glow brighter every minute.', '']\n",
      "['The evil forces in the world often vile and cruel, yet love is still a powerful thing.', '']\n",
      "['My god, the dog sat calmly in the park as I admired the beautiful scenery.', '']\n",
      "['I saw a level of skill that was truly amazing during the contest.', '']\n",
      "['The baked cake was so delicious, and I couldnâ€™t wait to eat it.', '']\n",
      "['A silent night, with stars above, made the calm and peaceful moment last forever.', '']\n",
      "['The flustered restful spirit of the artist showed through his beautiful painting of the night.', '']\n",
      "['Listen closely to the silent whispers of the wind as they pass through the trees.']\n",
      "[]\n"
     ]
    }
   ],
   "source": [
    "import csv\n",
    "with open('textdata.csv', mode ='r')as file:\n",
    "  csvFile = csv.reader(file)\n",
    "  for lines in csvFile:\n",
    "        print(lines)\n"
   ]
  }
 ],
 "metadata": {
  "kernelspec": {
   "display_name": "venv",
   "language": "python",
   "name": "python3"
  },
  "language_info": {
   "codemirror_mode": {
    "name": "ipython",
    "version": 3
   },
   "file_extension": ".py",
   "mimetype": "text/x-python",
   "name": "python",
   "nbconvert_exporter": "python",
   "pygments_lexer": "ipython3",
   "version": "3.13.0"
  }
 },
 "nbformat": 4,
 "nbformat_minor": 2
}
