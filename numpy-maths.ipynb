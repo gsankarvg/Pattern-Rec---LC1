{
 "cells": [
  {
   "cell_type": "code",
   "execution_count": 2,
   "metadata": {},
   "outputs": [],
   "source": [
    "import numpy as np\n",
    "import sympy as sp"
   ]
  },
  {
   "cell_type": "code",
   "execution_count": 8,
   "metadata": {},
   "outputs": [
    {
     "name": "stdout",
     "output_type": "stream",
     "text": [
      "eigen values [-0.37228132  5.37228132]\n",
      "eigen values [[-0.82456484 -0.41597356]\n",
      " [ 0.56576746 -0.90937671]]\n"
     ]
    }
   ],
   "source": [
    "a = np.matrix([\n",
    "    [1,2],\n",
    "    [3,4]\n",
    "])\n",
    "\n",
    "eig, eig_vec = np.linalg.eig(a)\n",
    "print(\"eigen values\",eig)\n",
    "print(\"eigen values\",eig_vec)"
   ]
  },
  {
   "cell_type": "code",
   "execution_count": 11,
   "metadata": {},
   "outputs": [
    {
     "name": "stdout",
     "output_type": "stream",
     "text": [
      "2\n"
     ]
    }
   ],
   "source": [
    "print(np.linalg.matrix_rank(a))"
   ]
  },
  {
   "cell_type": "code",
   "execution_count": 12,
   "metadata": {},
   "outputs": [
    {
     "name": "stdout",
     "output_type": "stream",
     "text": [
      "-2.0000000000000004\n"
     ]
    }
   ],
   "source": [
    "print(np.linalg.det(a))"
   ]
  },
  {
   "cell_type": "code",
   "execution_count": 15,
   "metadata": {},
   "outputs": [
    {
     "name": "stdout",
     "output_type": "stream",
     "text": [
      "0.5\n"
     ]
    }
   ],
   "source": [
    "b = np.matrix([\n",
    "    [0,2,5],\n",
    "    [0,4,0]\n",
    "])\n",
    "\n",
    "total_elements =  b.size\n",
    "zeros = np.count_nonzero(b == 0)\n",
    "sparsity  = zeros/total_elements\n",
    "print(sparsity)"
   ]
  },
  {
   "cell_type": "code",
   "execution_count": 16,
   "metadata": {},
   "outputs": [
    {
     "name": "stdout",
     "output_type": "stream",
     "text": [
      "[[14 28 34]\n",
      " [19 11 22]\n",
      " [19 15 25]]\n",
      "[[ 24 180 280]\n",
      " [ 90  28 120]\n",
      " [ 60  44 114]]\n",
      "[[ 24  90  60]\n",
      " [180  28  44]\n",
      " [280 120 114]]\n"
     ]
    }
   ],
   "source": [
    "matrix1 = np.random.randint(0,21,size=(3,3))\n",
    "matrix2 = np.random.randint(0,21,size=(3,3))\n",
    "\n",
    "add = matrix1 + matrix2\n",
    "multiply = matrix1 * matrix2\n",
    "transpose = np.transpose(multiply)\n",
    "print(add)\n",
    "print(multiply)\n",
    "print(transpose)"
   ]
  },
  {
   "cell_type": "code",
   "execution_count": 6,
   "metadata": {},
   "outputs": [
    {
     "name": "stdout",
     "output_type": "stream",
     "text": [
      "[[1 0 0]\n",
      " [0 2 0]\n",
      " [0 0 3]]\n"
     ]
    }
   ],
   "source": [
    "# m = np.random.randint(0,21,size=(3,3))\n",
    "# diagonal = np.diag(m)\n",
    "m = [1,2,3]\n",
    "diagonal_met = np.diagflat(m)\n",
    "print(diagonal_met)\n"
   ]
  },
  {
   "cell_type": "code",
   "execution_count": null,
   "metadata": {},
   "outputs": [
    {
     "name": "stdout",
     "output_type": "stream",
     "text": [
      "[12 16 20] \n",
      "\n",
      " [12 16 20]\n"
     ]
    }
   ],
   "source": [
    "a = np.array([1,2,3])\n",
    "b = np.array([5,6,7])\n",
    "k = 2\n",
    "#  k(a+b) = k.a + k.b\n",
    "p1 = np.multiply(k,np.add(a,b))\n",
    "p2 = np.add(np.multiply(k,a),np.multiply(k,b))\n",
    "print(f\"{p1} \\n\\n {p2}\")"
   ]
  },
  {
   "cell_type": "code",
   "execution_count": null,
   "metadata": {},
   "outputs": [],
   "source": [
    "# (k+l)*v1 = k*v1 + l*v1"
   ]
  }
 ],
 "metadata": {
  "kernelspec": {
   "display_name": "venv",
   "language": "python",
   "name": "python3"
  },
  "language_info": {
   "codemirror_mode": {
    "name": "ipython",
    "version": 3
   },
   "file_extension": ".py",
   "mimetype": "text/x-python",
   "name": "python",
   "nbconvert_exporter": "python",
   "pygments_lexer": "ipython3",
   "version": "3.13.0"
  }
 },
 "nbformat": 4,
 "nbformat_minor": 2
}
