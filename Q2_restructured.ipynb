{
  "cells": [
    {
      "cell_type": "code",
      "execution_count": 1,
      "metadata": {
        "id": "6_JdurfC0ONw"
      },
      "outputs": [],
      "source": [
        "import pandas as pd"
      ]
    },
    {
      "cell_type": "code",
      "execution_count": null,
      "metadata": {
        "colab": {
          "base_uri": "https://localhost:8080/"
        },
        "id": "kDsAPh9wzzD3",
        "outputId": "d3980d98-66a8-4f62-ee60-45d0c23b1d1a"
      },
      "outputs": [
        {
          "name": "stdout",
          "output_type": "stream",
          "text": [
            "CSV file has been created\n"
          ]
        }
      ],
      "source": [
        "sentences = [\n",
        "    \"Madam Arora went to the racecar rally and saw a civic engagement program in action.\",  # Palindromes: Madam, Arora, racecar, civic\n",
        "    \"Listen to the silent whispers of the night as words unfold their hidden meanings.\",    # Anagram: Listen - Silent\n",
        "    \"The dusty trail led to a stale inn where tales of the past were told.\",                # Anagram: Stale - Tales; Rhyming: Trail - Stale\n",
        "    \"The cat sat on a mat while a bat chased a rat.\",                                       # Rhyming: Cat - Sat - Mat - Bat - Rat\n",
        "    \"Evil lives in the minds of those who choose to ignore kindness and compassion.\",       # Palindrome: Evil - Live\n",
        "    \"The dusty desert road was dreary and weary under the eerie moonlight.\",                # Rhyming: Dreary - Weary - Eerie\n",
        "    \"A stressed person finds solace in desserts and sweet confections.\",                    # Anagram: Stressed - Desserts\n",
        "    \"The drawer of the cabinet held a reward for those who searched carefully.\",            # Anagram: Drawer - Reward\n",
        "    \"The knight’s might was tested in a fight on a starry night.\",                          # Rhyming: Knight - Might - Fight - Night\n",
        "    \"He kept staring at the garden to admire the range of vibrant flowers.\",                # Anagram: Staring - Garden - Range\n",
        "]\n",
        "\n",
        "df = pd.DataFrame({\"Sentences\": sentences})\n",
        "\n",
        "file_name = \"textdata1.csv\"\n",
        "df.to_csv(file_name, index=False)\n",
        "\n",
        "print(\"CSV file has been created\")"
      ]
    },
    {
      "cell_type": "code",
      "execution_count": 3,
      "metadata": {
        "id": "0NlGTEL00BLS"
      },
      "outputs": [],
      "source": [
        "import nltk\n",
        "from collections import Counter, defaultdict\n",
        "from itertools import permutations"
      ]
    },
    {
      "cell_type": "code",
      "execution_count": 4,
      "metadata": {
        "id": "nPPqlcDb0Eww"
      },
      "outputs": [],
      "source": [
        "from nltk.util import bigrams, trigrams\n",
        "from nltk.corpus import words, cmudict\n",
        "from nltk.tokenize import word_tokenize"
      ]
    },
    {
      "cell_type": "code",
      "execution_count": 5,
      "metadata": {
        "colab": {
          "base_uri": "https://localhost:8080/"
        },
        "id": "C64pu8UR0FKS",
        "outputId": "567b35c6-8859-4e5a-89f6-b3a21eb0ef14"
      },
      "outputs": [
        {
          "name": "stderr",
          "output_type": "stream",
          "text": [
            "[nltk_data] Downloading package punkt_tab to\n",
            "[nltk_data]     C:\\Users\\acer\\AppData\\Roaming\\nltk_data...\n",
            "[nltk_data]   Unzipping tokenizers\\punkt_tab.zip.\n",
            "[nltk_data] Downloading package words to\n",
            "[nltk_data]     C:\\Users\\acer\\AppData\\Roaming\\nltk_data...\n",
            "[nltk_data]   Unzipping corpora\\words.zip.\n",
            "[nltk_data] Downloading package cmudict to\n",
            "[nltk_data]     C:\\Users\\acer\\AppData\\Roaming\\nltk_data...\n",
            "[nltk_data]   Unzipping corpora\\cmudict.zip.\n"
          ]
        },
        {
          "data": {
            "text/plain": [
              "True"
            ]
          },
          "execution_count": 5,
          "metadata": {},
          "output_type": "execute_result"
        }
      ],
      "source": [
        "# nltk.download(\"punkt\")\n",
        "nltk.download('punkt_tab')\n",
        "nltk.download(\"words\")\n",
        "nltk.download(\"cmudict\")"
      ]
    },
    {
      "cell_type": "code",
      "execution_count": 16,
      "metadata": {},
      "outputs": [
        {
          "name": "stderr",
          "output_type": "stream",
          "text": [
            "[nltk_data] Downloading package gutenberg to\n",
            "[nltk_data]     C:\\Users\\acer\\AppData\\Roaming\\nltk_data...\n",
            "[nltk_data]   Unzipping corpora\\gutenberg.zip.\n"
          ]
        },
        {
          "data": {
            "text/plain": [
              "True"
            ]
          },
          "execution_count": 16,
          "metadata": {},
          "output_type": "execute_result"
        }
      ],
      "source": [
        "nltk.download(\"gutenberg\")"
      ]
    },
    {
      "cell_type": "code",
      "execution_count": 13,
      "metadata": {
        "id": "YhGEQt7Q0Xfd"
      },
      "outputs": [],
      "source": [
        "df = pd.read_csv(\"textdata.csv\")\n",
        "all_text = \" \".join(df[\"Sentences\"]).lower()\n",
        "words_list = word_tokenize(all_text)"
      ]
    },
    {
      "cell_type": "code",
      "execution_count": 14,
      "metadata": {
        "id": "SG01duEA0bKS"
      },
      "outputs": [],
      "source": [
        "words_list = [word for word in words_list if word.isalpha()]"
      ]
    },
    {
      "cell_type": "code",
      "execution_count": 15,
      "metadata": {
        "colab": {
          "base_uri": "https://localhost:8080/"
        },
        "id": "YWcKsSfB14tb",
        "outputId": "77dd85fd-efc7-41e3-e40c-215fe1afbd9a"
      },
      "outputs": [
        {
          "name": "stdout",
          "output_type": "stream",
          "text": [
            "most common words are: [('the', 14), ('a', 9), ('to', 5)]\n"
          ]
        }
      ],
      "source": [
        "def most_common_words(words):\n",
        "  word_count = Counter(words)\n",
        "  most_common = word_count.most_common(3)\n",
        "  print(f\"most common words are: {most_common}\")\n",
        "most_common_words(words_list)"
      ]
    },
    {
      "cell_type": "code",
      "execution_count": 9,
      "metadata": {
        "colab": {
          "base_uri": "https://localhost:8080/"
        },
        "id": "HKqyePG42m9z",
        "outputId": "4c0911d0-e83d-4d73-d1a4-4df178306c02"
      },
      "outputs": [
        {
          "name": "stdout",
          "output_type": "stream",
          "text": [
            " bigrams are: [(('of', 'the'), 3), (('to', 'the'), 2), (('the', 'dusty'), 2)] \n",
            "\n",
            " trigrams are [(('madam', 'arora', 'went'), 1), (('arora', 'went', 'to'), 1), (('went', 'to', 'the'), 1)]\n"
          ]
        }
      ],
      "source": [
        "def bigram_trigram(words):\n",
        "  bgram = list(bigrams(words))\n",
        "  tgram = list(trigrams(words))\n",
        "  bgram_count = Counter(bgram).most_common(3)\n",
        "  tgram_count = Counter(tgram).most_common(3)\n",
        "  print(f\" bigrams are: {bgram_count} \\n\\n trigrams are {tgram_count}\")\n",
        "\n",
        "bigram_trigram(words_list)"
      ]
    },
    {
      "cell_type": "code",
      "execution_count": 10,
      "metadata": {
        "colab": {
          "base_uri": "https://localhost:8080/"
        },
        "id": "q4QFEDW23uYQ",
        "outputId": "ea2765bc-842c-4969-8cc9-ba300071951c"
      },
      "outputs": [
        {
          "name": "stdout",
          "output_type": "stream",
          "text": [
            "Palindromes: {'madam', 'arora', 'civic', 'racecar'}\n"
          ]
        }
      ],
      "source": [
        "def paldroms(words):\n",
        "  palindromes = set()\n",
        "  for w in words_list:\n",
        "      if w == w[::-1] and len(w)>2:\n",
        "          palindromes.add(w)\n",
        "  print(f\"Palindromes: {palindromes}\")\n",
        "\n",
        "paldroms(words_list)"
      ]
    },
    {
      "cell_type": "code",
      "execution_count": 11,
      "metadata": {
        "colab": {
          "base_uri": "https://localhost:8080/"
        },
        "id": "5Eyofebw5nnw",
        "outputId": "bcc8465a-3e44-4a18-acf8-76bc845d264f"
      },
      "outputs": [
        {
          "name": "stdout",
          "output_type": "stream",
          "text": [
            "Anagrams: [['saw', 'was'], ['silent', 'listen'], ['stale', 'tales'], ['desserts', 'stressed'], ['drawer', 'reward']]\n"
          ]
        }
      ],
      "source": [
        "def anagrams(words):\n",
        "  anagram_groups = defaultdict(set)\n",
        "  for w in words:\n",
        "      sorted_word = ''.join(sorted(w))\n",
        "      anagram_groups[sorted_word].add(w)\n",
        "  anagram_list = [list(group)\n",
        "                  for group in anagram_groups.values()\n",
        "                  if len(group) > 1]\n",
        "  print(f\"Anagrams: {anagram_list}\")\n",
        "anagrams(words_list)"
      ]
    },
    {
      "cell_type": "code",
      "execution_count": null,
      "metadata": {},
      "outputs": [],
      "source": []
    }
  ],
  "metadata": {
    "colab": {
      "provenance": []
    },
    "kernelspec": {
      "display_name": "venv",
      "language": "python",
      "name": "python3"
    },
    "language_info": {
      "codemirror_mode": {
        "name": "ipython",
        "version": 3
      },
      "file_extension": ".py",
      "mimetype": "text/x-python",
      "name": "python",
      "nbconvert_exporter": "python",
      "pygments_lexer": "ipython3",
      "version": "3.13.0"
    }
  },
  "nbformat": 4,
  "nbformat_minor": 0
}
